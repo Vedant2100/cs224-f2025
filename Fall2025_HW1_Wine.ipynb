{
  "nbformat": 4,
  "nbformat_minor": 0,
  "metadata": {
    "colab": {
      "provenance": [],
      "include_colab_link": true
    },
    "kernelspec": {
      "name": "python3",
      "display_name": "Python 3"
    },
    "language_info": {
      "name": "python"
    }
  },
  "cells": [
    {
      "cell_type": "markdown",
      "metadata": {
        "id": "view-in-github",
        "colab_type": "text"
      },
      "source": [
        "<a href=\"https://colab.research.google.com/github/Vedant2100/cs224-f2025/blob/main/Fall2025_HW1_Wine.ipynb\" target=\"_parent\"><img src=\"https://colab.research.google.com/assets/colab-badge.svg\" alt=\"Open In Colab\"/></a>"
      ]
    },
    {
      "cell_type": "markdown",
      "metadata": {
        "id": "UKc8K9_57UEz"
      },
      "source": [
        "# CS224-EE242a - Fall 2025 - Homework 1\n",
        "\n",
        "# Due: Friday, October 10, 2025 @ 11:59pm\n",
        "\n",
        "### Maximum points: 100 pts\n",
        "\n",
        "\n",
        "## Submit your solution to Gradescope:\n",
        "1. Submit a single PDF to **HW1**\n",
        "2. Submit your jupyter notebook to **HW1-code**\n",
        "\n",
        "**See the additional submission instructions at the end of this notebook**"
      ]
    },
    {
      "cell_type": "markdown",
      "metadata": {
        "id": "JL5tIX4c9z6s"
      },
      "source": [
        "\n",
        "## <font color='green'> Enter your information below: </font>\n",
        "\n",
        "### <font color='green'> Your Name (submitter): Vedant Deepak Borkute </font>\n",
        "\n",
        "### <font color='green'> Your student ID (submitter): 862552981 </font>\n",
        "    \n",
        "    \n",
        "<b>By submitting this notebook, I assert that the work below is my own work, completed for this course.  Except where explicitly cited, none of the portions of this notebook are duplicated from anyone else's work or my own previous work.</b>\n",
        "\n",
        "\n",
        "## Academic Integrity\n",
        "Each assignment should be done  individually. You may discuss general approaches with other students in the class, and ask questions to the TAs, but  you must only submit work that is yours . If you receive help by any external sources (other than the TA and the instructor), you must properly credit those sources, and if the help is significant, the appropriate grade reduction will be applied. If you fail to do so, the instructor and the TAs are obligated to take the appropriate actions outlined at http://conduct.ucr.edu/policies/academicintegrity.html . Please read carefully the UCR academic integrity policies included in the link.\n"
      ]
    },
    {
      "cell_type": "markdown",
      "metadata": {
        "id": "hsywQWEI8pzj"
      },
      "source": [
        "# Overview\n",
        "In this assignment, you will refresh your knowledge of basic linear algebra (such as multiplication rules and norms), probability, and the K-Nearest Neighbors classifier.\n",
        "\n",
        "<font color='red'>Please **do not use pre-defined functions** to solve the questions unless we specify them in the question descriptions. For example, **do not use `numpy.linalg.norm` to solve question 2 in this homework**, instead, you should understand the definition of the norm and be able to implement it with the basic operations.</font>\n",
        "\n",
        "\n",
        "## Read *all* cells carefully and answer all parts\n"
      ]
    },
    {
      "cell_type": "markdown",
      "source": [
        "# Basic NumPy\n",
        "\n",
        "[NumPy](https://numpy.org/) is a powerful numerical computing Python package.\n",
        "Below we will summarize some basic linear algebra operations you will need to complete this assignment."
      ],
      "metadata": {
        "id": "BLZmOA_f_-M7"
      }
    },
    {
      "cell_type": "markdown",
      "source": [
        "Before using `NumPy`, we need to import it at the very beggining of the script with:"
      ],
      "metadata": {
        "id": "UsPgepciAvbX"
      }
    },
    {
      "cell_type": "code",
      "source": [
        "import numpy as np"
      ],
      "metadata": {
        "id": "nMBahbEpAs3T"
      },
      "execution_count": 1,
      "outputs": []
    },
    {
      "cell_type": "markdown",
      "source": [
        "To create a vector/matrix, use `np.array()` that takes a python `list` as input and returns a vector/matrix variable that contains the same elements as in the `list`. Here are some examples on how to create vectors/matrices using `np.array`."
      ],
      "metadata": {
        "id": "bgjdR9j9A70I"
      }
    },
    {
      "cell_type": "code",
      "source": [
        "# To create an vector:\n",
        "vector = [1,2,3]\n",
        "vector = np.array(vector)\n",
        "# or\n",
        "vector = np.array([1,2,3])\n",
        "print(f'Created vector: {vector}\\n')\n",
        "\n",
        "# To create an 3x4 matrix:\n",
        "matrix = [[1,2,3, 4],[5,6,7,8],[9,10,11,12]]\n",
        "matrix = np.array(matrix)\n",
        "# or\n",
        "matrix = np.array([[1,2,3, 4],[5,6,7,8],[9,10,11,12]])\n",
        "print(f'Created matrix:\\n{matrix}')"
      ],
      "metadata": {
        "id": "7EFbxQ-QBgyU",
        "outputId": "4b298dad-98a5-4a67-942f-195c7fb09b8e",
        "colab": {
          "base_uri": "https://localhost:8080/"
        }
      },
      "execution_count": 2,
      "outputs": [
        {
          "output_type": "stream",
          "name": "stdout",
          "text": [
            "Created vector: [1 2 3]\n",
            "\n",
            "Created matrix:\n",
            "[[ 1  2  3  4]\n",
            " [ 5  6  7  8]\n",
            " [ 9 10 11 12]]\n"
          ]
        }
      ]
    },
    {
      "cell_type": "markdown",
      "source": [
        "To check the shape of `np.array` variables you created, use attribute `.shape`, so that you know you create the right vector/matrix you want."
      ],
      "metadata": {
        "id": "7Fqy3m6ECUGt"
      }
    },
    {
      "cell_type": "code",
      "source": [
        "print(f'Shape of vector: {vector.shape}')\n",
        "print(f'Shape of matrix: {matrix.shape}')"
      ],
      "metadata": {
        "id": "lmRZPBTGCxi7",
        "outputId": "45b98eed-5133-4276-f160-541686e839f2",
        "colab": {
          "base_uri": "https://localhost:8080/"
        }
      },
      "execution_count": 3,
      "outputs": [
        {
          "output_type": "stream",
          "name": "stdout",
          "text": [
            "Shape of vector: (3,)\n",
            "Shape of matrix: (3, 4)\n"
          ]
        }
      ]
    },
    {
      "cell_type": "markdown",
      "source": [
        "To obtain the transpose of `np.array`, use attribute `.T`."
      ],
      "metadata": {
        "id": "iAFD7q6ZDpRf"
      }
    },
    {
      "cell_type": "code",
      "source": [
        "print(f'Transposed matrix:\\n{matrix.T}')"
      ],
      "metadata": {
        "id": "34W9ZHO0Ddy6",
        "outputId": "73023938-a5e1-4f0a-ee76-9fc2e76e2cf3",
        "colab": {
          "base_uri": "https://localhost:8080/"
        }
      },
      "execution_count": 4,
      "outputs": [
        {
          "output_type": "stream",
          "name": "stdout",
          "text": [
            "Transposed matrix:\n",
            "[[ 1  5  9]\n",
            " [ 2  6 10]\n",
            " [ 3  7 11]\n",
            " [ 4  8 12]]\n"
          ]
        }
      ]
    },
    {
      "cell_type": "markdown",
      "source": [
        "To compute element-wise product between two matrices, use `*`. <br>\n",
        "To compute matrix multiplication between two matrices, use `@`."
      ],
      "metadata": {
        "id": "E1SQVdC6ECyL"
      }
    },
    {
      "cell_type": "code",
      "source": [
        "print(f'Element-wise product:\\n{matrix * matrix}')\n",
        "print(f'Matrix product:\\n{matrix @ matrix.T}')"
      ],
      "metadata": {
        "id": "QLQi3z9EESsh",
        "outputId": "ddb63b4c-48fa-47b6-8e9a-01421f0e1fb7",
        "colab": {
          "base_uri": "https://localhost:8080/"
        }
      },
      "execution_count": 5,
      "outputs": [
        {
          "output_type": "stream",
          "name": "stdout",
          "text": [
            "Element-wise product:\n",
            "[[  1   4   9  16]\n",
            " [ 25  36  49  64]\n",
            " [ 81 100 121 144]]\n",
            "Matrix product:\n",
            "[[ 30  70 110]\n",
            " [ 70 174 278]\n",
            " [110 278 446]]\n"
          ]
        }
      ]
    },
    {
      "cell_type": "markdown",
      "source": [
        "To sum all the element of a vector, call `.sum()`"
      ],
      "metadata": {
        "id": "gPtXjCI2Evxl"
      }
    },
    {
      "cell_type": "code",
      "source": [
        "print(f'Summation of vector elements: {vector.sum()}')"
      ],
      "metadata": {
        "id": "FzhiwnSqFHVW",
        "outputId": "2d49ae13-21f7-479e-befa-e5ae429552b2",
        "colab": {
          "base_uri": "https://localhost:8080/"
        }
      },
      "execution_count": 6,
      "outputs": [
        {
          "output_type": "stream",
          "name": "stdout",
          "text": [
            "Summation of vector elements: 6\n"
          ]
        }
      ]
    },
    {
      "cell_type": "markdown",
      "source": [
        "For a matrix, we can perform summation along different dimensions using `axis` parameter. \\\n",
        "For example, summation along `axis=0` will give a row vector that is the sum of all the rows. In other words, first entry will be the summation of entries in the first column, second entry will be the summation of entries in the second column, and so on."
      ],
      "metadata": {
        "id": "tfOgs7n5FQni"
      }
    },
    {
      "cell_type": "code",
      "source": [
        "print(matrix)"
      ],
      "metadata": {
        "id": "uuwTmwNYLRj0",
        "outputId": "6ee7577c-8ec4-45ba-e455-52945907b422",
        "colab": {
          "base_uri": "https://localhost:8080/"
        }
      },
      "execution_count": 7,
      "outputs": [
        {
          "output_type": "stream",
          "name": "stdout",
          "text": [
            "[[ 1  2  3  4]\n",
            " [ 5  6  7  8]\n",
            " [ 9 10 11 12]]\n"
          ]
        }
      ]
    },
    {
      "cell_type": "code",
      "source": [
        "print(f'Summation of all the rows: {matrix.sum(axis=0)}')\n",
        "print(f'Summation of all the columns: {matrix.sum(axis=1)}')\n",
        "print(f'Summation of all the elements: {matrix.sum()}')"
      ],
      "metadata": {
        "id": "WVKOoX_SFPWX",
        "outputId": "43b09137-0a1a-4ad7-ded5-d4ae13f16742",
        "colab": {
          "base_uri": "https://localhost:8080/"
        }
      },
      "execution_count": 8,
      "outputs": [
        {
          "output_type": "stream",
          "name": "stdout",
          "text": [
            "Summation of all the rows: [15 18 21 24]\n",
            "Summation of all the columns: [10 26 42]\n",
            "Summation of all the elements: 78\n"
          ]
        }
      ]
    },
    {
      "cell_type": "markdown",
      "source": [
        "For more information on using NumPy, please refer to the [official documentation](https://numpy.org/doc/stable/). <br>\n",
        "Enjoy!"
      ],
      "metadata": {
        "id": "1-xPE6bIEmRc"
      }
    },
    {
      "cell_type": "markdown",
      "metadata": {
        "id": "B75oOA9NCMwg"
      },
      "source": [
        "# Basic Linear Algebra [25 pts]"
      ]
    },
    {
      "cell_type": "markdown",
      "metadata": {
        "id": "XRf-t_oPCRzH"
      },
      "source": [
        "## Question 1. Vector-matrix arithmetic [11 pts]"
      ]
    },
    {
      "cell_type": "markdown",
      "source": [
        "#### Question 1a: Element-wise product [2 pts]  \n",
        "The elementwise product of two matrices is called the Hadamard product and denoted as $\\odot$ (called `odot` notation). Suppose we are given two $m\\times n$ matrices as\n",
        "$$\n",
        "\\mathbf{A} =\n",
        "\\begin{bmatrix}\n",
        "a_{11} & a_{12} & \\dots & a_{1n} \\\\\n",
        "a_{21} & a_{22} & \\dots & a_{2n} \\\\\n",
        "\\vdots & \\vdots & \\ddots & \\vdots \\\\\n",
        "a_{m1} & a_{m2} & \\dots & a_{mn} \\\\\n",
        "\\end{bmatrix},\\\n",
        "\\mathbf{B} =\n",
        "\\begin{bmatrix}\n",
        "b_{11} & b_{12} & \\dots & b_{1n} \\\\\n",
        "b_{21} & b_{22} & \\dots & b_{2n} \\\\\n",
        "\\vdots & \\vdots & \\ddots & \\vdots \\\\\n",
        "b_{m1} & b_{m2} & \\dots & b_{mn} \\\\\n",
        "\\end{bmatrix}\n",
        "$$\n",
        "\n",
        "We can compute the Hadamard product of $\\mathbf{A},\\mathbf{B}$ as\n",
        "$$\n",
        "\\mathbf{A} \\odot \\mathbf{B} =\n",
        "\\begin{bmatrix}\n",
        "a_{11}b_{11} & a_{12}b_{12} & \\dots & a_{1n}b_{1n} \\\\\n",
        "a_{21}b_{21} & a_{22}b_{22} & \\dots & a_{2n}b_{2n} \\\\\n",
        "\\vdots & \\vdots & \\ddots & \\vdots \\\\\n",
        "a_{m1}b_{m1} & a_{m2}b_{m2} & \\dots & a_{mn}b_{mn} \\\\\n",
        "\\end{bmatrix}\n",
        "$$\n",
        "\n",
        "Create two matrices using `numpy.array` as\n",
        "$\\mathbf{A} = \\begin{bmatrix}\n",
        "5 & 0 & 7 \\\\\n",
        "6 & 1 & 3 \\\\\n",
        "5 & 9 & 3 \\\\\n",
        "\\end{bmatrix}$\n",
        "and\n",
        "$\\mathbf{B} = \\begin{bmatrix}\n",
        "1 & 0 & 2 \\\\\n",
        "0 & 2 & 1 \\\\\n",
        "1 & 1 & 2 \\\\\n",
        "\\end{bmatrix}$\n",
        "and compute $\\mathbf{A} \\odot \\mathbf{B}$.\n",
        "\n",
        "**To create matrices A and B, use the digits from your student ID, but replace all odd numbers with -3.**"
      ],
      "metadata": {
        "id": "h8kNTGRQ07Q5"
      }
    },
    {
      "cell_type": "code",
      "source": [
        "# Complete the code blocks below\n",
        "\n",
        "A = np.array([[5,0,7], [6,1,3], [5,9,3]])\n",
        "B = np.array([[1,0,2], [0,2,1], [1,1,2]])\n",
        "\n",
        "# print the product\n",
        "print(A*B)"
      ],
      "metadata": {
        "id": "WRo7O-w0Vw1I",
        "outputId": "321e9d20-9462-4677-c76a-71288e0df877",
        "colab": {
          "base_uri": "https://localhost:8080/"
        }
      },
      "execution_count": 9,
      "outputs": [
        {
          "output_type": "stream",
          "name": "stdout",
          "text": [
            "[[ 5  0 14]\n",
            " [ 0  2  3]\n",
            " [ 5  9  6]]\n"
          ]
        }
      ]
    },
    {
      "cell_type": "markdown",
      "source": [
        "\n",
        "#### Question 1b: Scalar or dot product [2 pts]  \n",
        "\n",
        "Scalar, dot, or inner product of two vectors $\\mathbf{x},\\mathbf{y}\\in\\mathbb{R}^d$ can be defined as the summation of the element-wise product of all the entries in two vectors:\n",
        "\n",
        "$$\\mathbf{x}^\\top\\mathbf{y} = \\langle\\mathbf{x}, \\mathbf{y}\\rangle =  \\sum_{i=1}^dx_iy_i.$$\n",
        "\n",
        "\n",
        "You are given partial observations of two vectors, $\\mathbf{x}$ and $\\mathbf{y}$, where $\\mathbf{x} = \\begin{bmatrix}6 \\\\ \\mathbf{?} \\\\ 9\\end{bmatrix}$ and $\\mathbf{y} = \\begin{bmatrix}\\mathbf{?} \\\\ 3 \\\\ 7\\end{bmatrix}$.\n",
        "\n",
        "**Find the unknown values in $\\mathbf{x}$ and $\\mathbf{y}$ if their dot product $\\mathbf{x}^\\top \\mathbf{y} = \\dfrac{1}{3}$. Then, show in code that the values you found satisfy $\\mathbf{x}^\\top \\mathbf{y} = \\dfrac{1}{3}$.**\n",
        "\n",
        "**Provide a brief explanation on how you found the missing (?) values.**\n",
        "\n"
      ],
      "metadata": {
        "id": "mbBFXU2_UGos"
      }
    },
    {
      "cell_type": "markdown",
      "source": [
        "# Complete the code blocks below and add a brief explanation\n",
        "\n",
        "# Provide a brief explanation on how you found the missing (?) values.\n",
        "A unique solution for the two missing elements cannot be found since it involves two missing values and one equation. There would be infinite solutions.\n",
        "We could fix a value for one missing variable and find an appropriate value for other."
      ],
      "metadata": {
        "id": "O1yoJS-SSn5f"
      }
    },
    {
      "cell_type": "markdown",
      "source": [
        "If we fix a = 0, we can solve the equation.\n",
        "Equation: 6*b + 0 * 3 + 9 * 7 = 1/3 which is solved to b = -188/18 i.e. b = -94/9"
      ],
      "metadata": {
        "id": "L-LCAWTkTLqP"
      }
    },
    {
      "cell_type": "code",
      "source": [
        "\n",
        "\n",
        "x = np.array([6, 0, 9])\n",
        "y = np.array([-94/9, 3, 7])\n",
        "\n",
        "\n",
        "\n",
        "product = x.T @ y\n",
        "print (product)\n"
      ],
      "metadata": {
        "id": "1Zts3TPvSkzS",
        "outputId": "40069efe-ecc8-45a2-e653-bbb4867cc62f",
        "colab": {
          "base_uri": "https://localhost:8080/"
        }
      },
      "execution_count": 13,
      "outputs": [
        {
          "output_type": "stream",
          "name": "stdout",
          "text": [
            "0.3333333333333286\n"
          ]
        }
      ]
    },
    {
      "cell_type": "markdown",
      "source": [
        "#### Question 1c: Matrix–vector products [2 pts] <br>\n",
        "Now that we know how to calculate dot products, we can begin to understand the product between an matrix $\\mathbf{A}$ and an $n$-dimensional vector $\\mathbf{x}$. To start off, we view our matrix in terms of its row vectors:\n",
        "$$\n",
        "\\mathbf{A} =\n",
        "\\begin{bmatrix}\n",
        "\\mathbf{a}_{1}^\\top\\\\\n",
        "\\mathbf{a}_{2}^\\top\\\\\n",
        "\\vdots\\\\\n",
        "\\mathbf{a}_{m}^\\top\\\\\n",
        "\\end{bmatrix},\n",
        "$$<br>\n",
        "where each $\\mathbf{a}_{i}^\\top\\in\\mathbb{R}^n$ is a row vector representing the $i^{\\textrm{th}}$ row of the matrix $\\mathbf{A}$.<br>\n",
        "The matrix–vector product $\\mathbf{Ax}$ is simply a column vector of length $m$, whose $i^{\\textrm{th}}$ element is the dot product $\\mathbf{a}_{i}^\\top\\mathbf{x}$:\n",
        "$$\n",
        "\\mathbf{Ax} =\n",
        "\\begin{bmatrix}\n",
        "\\mathbf{a}_{1}^\\top\\mathbf{x}\\\\\n",
        "\\mathbf{a}_{2}^\\top\\mathbf{x}\\\\\n",
        "\\vdots\\\\\n",
        "\\mathbf{a}_{m}^\\top\\mathbf{x}\\\\\n",
        "\\end{bmatrix}.\n",
        "$$<br>\n",
        "\n",
        "**Compute the $\\mathbf{Ax}$. Use values of $\\mathbf{A}$ and $\\mathbf{x}$ from Q1a and Q1b.**"
      ],
      "metadata": {
        "id": "sRrq1fzLUJC5"
      }
    },
    {
      "cell_type": "code",
      "source": [
        "A"
      ],
      "metadata": {
        "id": "lSGsbcCSaHGv",
        "outputId": "0fd9908b-646e-42f3-d7f5-48353dc18205",
        "colab": {
          "base_uri": "https://localhost:8080/"
        }
      },
      "execution_count": 19,
      "outputs": [
        {
          "output_type": "execute_result",
          "data": {
            "text/plain": [
              "array([[5, 0, 7],\n",
              "       [6, 1, 3],\n",
              "       [5, 9, 3]])"
            ]
          },
          "metadata": {},
          "execution_count": 19
        }
      ]
    },
    {
      "cell_type": "code",
      "source": [
        "x"
      ],
      "metadata": {
        "id": "lhpd0qzSaIYj",
        "outputId": "d2cecdd3-9a8a-4724-92da-8e5a569217cb",
        "colab": {
          "base_uri": "https://localhost:8080/"
        }
      },
      "execution_count": 20,
      "outputs": [
        {
          "output_type": "execute_result",
          "data": {
            "text/plain": [
              "array([6, 0, 9])"
            ]
          },
          "metadata": {},
          "execution_count": 20
        }
      ]
    },
    {
      "cell_type": "code",
      "source": [
        "# Complete the code blocks below\n",
        "\n",
        "product = A @ x\n",
        "\n",
        "print (product)"
      ],
      "metadata": {
        "id": "ztRrdWwJW_3n",
        "outputId": "2927fce7-08fa-448e-a7ab-cdcebc6f2265",
        "colab": {
          "base_uri": "https://localhost:8080/"
        }
      },
      "execution_count": 18,
      "outputs": [
        {
          "output_type": "stream",
          "name": "stdout",
          "text": [
            "[93 63 57]\n"
          ]
        }
      ]
    },
    {
      "cell_type": "markdown",
      "source": [
        "#### Question 1d: Matrix–matrix multiplication [2 pts] <br>\n",
        "Suppose we have two matrix $\\mathbf{A}$ and $\\mathbf{B}$ that can be viewed as \"vector of vectors\", the same described as question Q1c:\n",
        "$$\n",
        "\\mathbf{A} =\n",
        "\\begin{bmatrix}\n",
        "\\mathbf{a}_{1}^\\top\\\\\n",
        "\\mathbf{a}_{2}^\\top\\\\\n",
        "\\vdots\\\\\n",
        "\\mathbf{a}_{m}^\\top\\\\\n",
        "\\end{bmatrix},\\quad\n",
        "\\mathbf{B} =\n",
        "\\begin{bmatrix}\n",
        "\\mathbf{b}_{1} & \\mathbf{b}_{2} & \\cdots & \\mathbf{b}_{n}\n",
        "\\end{bmatrix}.\n",
        "$$<br>\n",
        "To compute the matrix product $\\mathbf{C}\\in\\mathbb{R}^{m\\times n}$, we simply compute each element $c_{ij}$ as the dot product between the $i^{\\textrm{th}}$ row of $\\mathbf{A}$ and the $j^{\\textrm{th}}$ column of $\\mathbf{B}$, $\\textrm{i.e.},\\mathbf{a}_{i}^\\top\\mathbf{b}_{j}$:\n",
        "$$\n",
        "\\mathbf{AB} =\n",
        "\\begin{bmatrix}\n",
        "\\mathbf{a}_{1}^\\top\\mathbf{b}_{1} & \\mathbf{a}_{1}^\\top\\mathbf{b}_{2} & \\dots & \\mathbf{a}_{1}^\\top\\mathbf{b}_{n}\\\\\n",
        "\\mathbf{a}_{2}^\\top\\mathbf{b}_{1} & \\mathbf{a}_{2}^\\top\\mathbf{b}_{2} & \\dots & \\mathbf{a}_{2}^\\top\\mathbf{b}_{n}\\\\\n",
        "\\vdots & \\vdots & \\ddots & \\vdots\\\\\n",
        "\\mathbf{a}_{m}^\\top\\mathbf{b}_{1} & \\mathbf{a}_{m}^\\top\\mathbf{b}_{2} & \\dots & \\mathbf{a}_{m}^\\top\\mathbf{b}_{n}\\\\\n",
        "\\end{bmatrix}.\n",
        "$$<br>\n",
        "\n",
        "**Compute $\\mathbf{AB}$. Use the digits from your student ID to create $\\mathbf{A}$ and $\\mathbf{B}$, but replace all odd numbers with -3.**"
      ],
      "metadata": {
        "id": "2X5ZzO2hUMHS"
      }
    },
    {
      "cell_type": "code",
      "source": [
        "# Complete the code blocks below\n",
        "\n",
        "A = np.array([[8, 6, 2], [-3, -3, 2], [-3, 8, -3]])\n",
        "B = np.array([[2, 8, 6], [2, -3, -3], [-3, -3, 8]])\n",
        "\n",
        "product = A @ B\n",
        "print (product)"
      ],
      "metadata": {
        "id": "K6_mVVSEW63d",
        "outputId": "18942f4a-0ad4-483e-ba7c-091febee6d52",
        "colab": {
          "base_uri": "https://localhost:8080/"
        }
      },
      "execution_count": 23,
      "outputs": [
        {
          "output_type": "stream",
          "name": "stdout",
          "text": [
            "[[ 22  40  46]\n",
            " [-18 -21   7]\n",
            " [ 19 -39 -66]]\n"
          ]
        }
      ]
    },
    {
      "cell_type": "markdown",
      "source": [
        "#### Question 1e: Hadamard and dot product validity [3 pts]\n",
        "\n",
        "Suppose we are given two vectors\n",
        "$$x = \\begin{bmatrix} 1 \\\\ 3 \\\\ 5\\end{bmatrix},\\ y =  \\begin{bmatrix} 2 \\\\ 4\\\\ 6 \\\\ 8 \\end{bmatrix}$$\n"
      ],
      "metadata": {
        "id": "p3v40C9bWcBF"
      }
    },
    {
      "cell_type": "markdown",
      "source": [
        "**1. Can you compute the Hadamard product $x \\odot y$? If yes, complete the code block below. If not, explain why in the text.**"
      ],
      "metadata": {
        "id": "6nsTTdjUHmDy"
      }
    },
    {
      "cell_type": "code",
      "source": [
        "# TODO: Compute the Hadamard product, or add an explanation if not possible.\n",
        "\n",
        "We cannot compute the Hadamard product (element-wise multiplication) of x and y because they are not of same size."
      ],
      "metadata": {
        "id": "FI-HKj7o56CA"
      },
      "execution_count": null,
      "outputs": []
    },
    {
      "cell_type": "markdown",
      "source": [
        "\n",
        "**2. Can you compute the dot (inner) product $x^\\top y$? If yes, complete the code block below. If not, explain why in the text.**"
      ],
      "metadata": {
        "id": "rdzaoqM_6aOI"
      }
    },
    {
      "cell_type": "code",
      "source": [
        "# TODO: Compute the inner product, or add an explanation if not possible.\n",
        "\n",
        "We cannot compute the dot product (x^T y) because the shapes of x and y are incompatible. (1,3) and (4,1) resp."
      ],
      "metadata": {
        "id": "7_3Eyput6ZPK"
      },
      "execution_count": null,
      "outputs": []
    },
    {
      "cell_type": "markdown",
      "source": [
        "\n",
        "**3. Can you compute matrix product $xy^\\top$? If yes, complete the code block below. If not, explain why in the text.**"
      ],
      "metadata": {
        "id": "fSVUnuAB6ef0"
      }
    },
    {
      "cell_type": "code",
      "source": [
        "# TODO: Compute the matrix product, or add an explanation if not possible.\n",
        "\n",
        "# The shapes of x and y^T are compatible, (3,1) and (1,4) respectively.\n",
        "\n",
        "product = x @ y.T\n",
        "print (product)"
      ],
      "metadata": {
        "id": "QkFxooso6cUX",
        "outputId": "ec0b7e5e-be54-429c-b65d-3e1c0445240f",
        "colab": {
          "base_uri": "https://localhost:8080/"
        }
      },
      "execution_count": 24,
      "outputs": [
        {
          "output_type": "stream",
          "name": "stdout",
          "text": [
            "0.3333333333333286\n"
          ]
        }
      ]
    },
    {
      "cell_type": "markdown",
      "metadata": {
        "id": "R7RCL1v1DMYZ"
      },
      "source": [
        "## Question 2. Norm, mean, distance and similarity [14 pts]\n",
        "\n",
        "For this question, we will be working with [Planets Dataset](https://exoplanets.nasa.gov/exoplanet-catalog/) from [Seaborn](https://seaborn.pydata.org/index.html). The Planets dataset includes information about exoplanets, such as mass, orbital period, and year of discovery. In this problem, we will focus on the following attributes:\n",
        "\n",
        "*  **mass**: The mass of the exoplanet, measured in terms of Jupiter masses.\n",
        "*  **number**: The number of planets in the system.\n",
        "*  **orbital_period**: The orbital period in Earth days.\n",
        "*  **distance**: The distance from Earth in light-years.\n",
        "\n",
        "Using the `load_dataset` API, we can load these attributes into a `features` array. The array will have four columns, each representing `mass`, `number`, `orbital_period`, and `distance`, respectively. Each row represents a different exoplanet.\n"
      ]
    },
    {
      "cell_type": "code",
      "source": [
        "import seaborn\n",
        "import numpy as np\n",
        "\n",
        "# Use the load_dataset API to load `planets` dataset.\n",
        "# Load the following attributes: 'mass', 'number', 'orbital_period', 'distance'\n",
        "planets_dataset = seaborn.load_dataset('planets')\n",
        "features_df = planets_dataset[['mass', 'number', 'orbital_period', 'distance']].dropna()\n",
        "features = features_df.to_numpy()\n",
        "\n",
        "print(\"Planets Dataset\\n\", features_df)"
      ],
      "metadata": {
        "id": "LF_pIiN3KV4F"
      },
      "execution_count": null,
      "outputs": []
    },
    {
      "cell_type": "markdown",
      "source": [
        "#### Question 2a: Norm of vector [3 pts]  \n",
        "\n",
        "\n",
        "<!-- ![norm](https://miro.medium.com/v2/resize:fit:480/1*ZreluxyiXJnjWNcEZ_HHSQ.png) -->\n",
        "\n",
        "The $\\ell_1$ norm sums the absolute values of a vector’s elements:\n",
        "$$\n",
        "\\|\\mathbf{x}\\|_1 = \\sum_{i=1}^n|x_i|,\n",
        "$$\n",
        "The $\\ell_2$ norm is also common and the associated measure is called the Euclidean distance. By definition, the $\\ell_2$ norm is the square root of summation of the square values of a vector’s elements:\n",
        "$$\n",
        "\\|\\mathbf{x}\\|_2 = \\sqrt{\\sum_{i=1}^n x_i^2},\n",
        "$$\n",
        "Both $\\ell_1$ and $\\ell_2$ norms can be represented in the more general $\\ell_p$ norms:\n",
        "$$\n",
        "\\|\\mathbf{x}\\|_p = \\left(\\sum_{i=1}^n|x_i|^p\\right)^{1/p},\n",
        "$$\n",
        "\n",
        "\n",
        "**Select any two exoplanets from the features array above and create two vectors, $\\mathbf{x}$ and $\\mathbf{y}$. Each vector will contain four entries, one for each attribute. Then, compute the $\\ell_1$ and $\\ell_2$ norms for both $\\mathbf{x}$ and $\\mathbf{y}$.**\n",
        "\n",
        "\n",
        "<font color='red'>(You **are not** allowed to use `numpy.linalg.norm`)</font>"
      ],
      "metadata": {
        "id": "jSGRW_Ic1Cx6"
      }
    },
    {
      "cell_type": "code",
      "source": [
        "# Complete the code blocks below\n",
        "\n",
        "# x =\n",
        "# y =\n",
        "# print(f\"Vector x (Planet 1): {x}\")\n",
        "# print(f\"Vector y (Planet 2): {y}\\n\")\n",
        "\n",
        "# l1_x =\n",
        "# l2_x =\n",
        "# print(f'l1 norm of x: {l1_x}, l2 norm of x: {l2_x}')\n",
        "\n",
        "# l1_y =\n",
        "# l2_y =\n",
        "# print(f'l1 norm of y: {l1_y}, l2 norm of y: {l2_y}')"
      ],
      "metadata": {
        "id": "-uBb9UcH1kyT"
      },
      "execution_count": null,
      "outputs": []
    },
    {
      "cell_type": "markdown",
      "source": [
        "#### Question 2b: Vector mean [3 pts]  \n",
        "\n",
        "We are often interested in the average value of the features in our dataset, such as the average mass of all exoplanets.\n",
        "\n",
        "(You **are** allowed to use `numpy.mean` to solve this question).\n",
        "\n",
        "**1. Compute the average `mass` and the average `orbital_period` of all exoplanets in the dataset.**"
      ],
      "metadata": {
        "id": "bbT6sHvAVAkI"
      }
    },
    {
      "cell_type": "code",
      "source": [
        "# Complete the code blocks below\n",
        "\n",
        "# average_masss =\n",
        "\n",
        "# average_orbital_period =\n",
        "\n",
        "# print\n",
        "# print(f\"1. Average mass of all exoplanets: {average_mass:.2f} Jupiter masses\")\n",
        "# print(f\"   Average orbital period of all exoplanets: {average_orbital_period:.2f} Earth days\\n\")"
      ],
      "metadata": {
        "id": "6OywK1ZDWZlh"
      },
      "execution_count": null,
      "outputs": []
    },
    {
      "cell_type": "markdown",
      "source": [
        "**2. Pick any exoplanet and compute the mean value of all four features.**"
      ],
      "metadata": {
        "id": "Cg2hCi-ZIV5-"
      }
    },
    {
      "cell_type": "code",
      "source": [
        "# Complete the code blocks below\n",
        "\n",
        "# exoplanet_sample =\n",
        "# feature_avg =\n",
        "\n",
        "# print\n",
        "# print(f\"2. Features for the first exoplanet: {exoplanet_sample}\")\n",
        "# print(f\"   Mean value of its features: {feature_avg:.2f}\")\n"
      ],
      "metadata": {
        "id": "jSWqGvSaJGPL"
      },
      "execution_count": null,
      "outputs": []
    },
    {
      "cell_type": "markdown",
      "source": [
        "#### Question 2c: Distance between vectors [3 pts]  \n",
        "\n",
        "\n",
        "The $\\ell_p$ distance between two vectors $\\mathbf{x}_i, \\mathbf{x}_j \\in \\mathbb{R}^n$ can be written as  \n",
        "$$\\|\\mathbf{x}_i - \\mathbf{x}_j\\|_p = \\left(\\sum_{k=1}^n |\\mathbf{x}_i(k) - \\mathbf{x}_j(k)|^p\\right)^{1/p}, $$\n",
        "which is the $\\ell_p$ norm of vector $\\mathbf{x}_i- \\mathbf{x}_j$.\n",
        "\n",
        "**Pick any two exoplanets $\\mathbf{x}$ and $\\mathbf{y}$ from the `features` array above (feel free to use the same vectors from the previous question). Then, compute the $\\ell_2$ and $\\ell_3$ distance between vectors $\\mathbf{x}$ and $\\mathbf{y}$.**"
      ],
      "metadata": {
        "id": "jyj4Eudz1nuA"
      }
    },
    {
      "cell_type": "code",
      "source": [
        "# Complete the code blocks below\n",
        "\n",
        "# x =\n",
        "# y =\n",
        "# print(f\"Vector x: {x}\")\n",
        "# print(f\"Vector y: {y}\\n\")\n",
        "\n",
        "\n",
        "# l2_xy =\n",
        "# l3_xy =\n",
        "# print(f'l2 distance between x y: {l2_xy}')\n",
        "# print(f'l3 distance between x y: {l3_xy}')"
      ],
      "metadata": {
        "id": "AFbAn5J9_J_S"
      },
      "execution_count": null,
      "outputs": []
    },
    {
      "cell_type": "markdown",
      "source": [
        "#### Question 2d: Similarity between vectors [5 pts]\n",
        "\n",
        "\n",
        "To measure the similarity between two vectors in an inner product space, the commonly used metric is the *cosine similarity*. The cosine similarity between two vectors $\\mathbf{x}_i, \\mathbf{x}_j \\in \\mathbb{R}^n$ define as:\n",
        "$$\n",
        "\\mathrm{cos}\\theta = \\frac{\\mathbf{x}_i^\\top  \\mathbf{x}_j}{\\|\\mathbf{x}_i\\|_2 \\|\\mathbf{x}_j\\|_2} =\n",
        "\\frac{\\sum_{k=1}^n\\mathbf{x}_i(k)\\mathbf{x}_j(k)}{\\sqrt{\\sum_{k=1}^n\\mathbf{x}_i(k)^2\\cdot\\sum_{i=1}^n\\mathbf{x}_j(k)^2}}.\n",
        "$$\n",
        "In $2$-D case, the cosine similarity between two vectors is the cosine value of the angle formed by the vectors.\n",
        "\n",
        "\n",
        "**Use cosine similarity to identify the two exoplanets in the dataset with the most similar features. Once you identify them, print the attributes of both exoplanets.**"
      ],
      "metadata": {
        "id": "VUYJwe0X17Un"
      }
    },
    {
      "cell_type": "code",
      "source": [
        "# Complete the code blocks below\n",
        "\n",
        "# closest_pair_features =\n",
        "\n",
        "# print(f\"The closest planets: \")\n",
        "# print(f\" \\t Planets 1 : \", closest_pair_features[0])\n",
        "# print(f\" \\t Planets 2 : \", closest_pair_features[1])\n"
      ],
      "metadata": {
        "id": "oEONcLjO17jx"
      },
      "execution_count": null,
      "outputs": []
    },
    {
      "cell_type": "markdown",
      "source": [
        "# Probability and K-Nearest Neighbors Classifier [75 pts]"
      ],
      "metadata": {
        "id": "2ntJdrlRWWE9"
      }
    },
    {
      "cell_type": "markdown",
      "source": [
        "## Getting real data\n",
        "In this assignment we are going to use the [Wine Quality Dataset](https://archive.ics.uci.edu/dataset/109/wine).\n",
        "\n",
        "<img src=\"https://raw.githubusercontent.com/Masterx-AI/Project_Wine_Quality_Investigation/main/wq.jpg\" height=\"200\" />\n",
        "\n",
        "<!-- <img src=\"https://github.com/allisonhorst/palmerpenguins/raw/main/man/figures/lter_penguins.png\" height=\"200\" />\n",
        "\n",
        "<img src=\"https://github.com/allisonhorst/palmerpenguins/raw/main/man/figures/culmen_depth.png\" height=\"200\" /> -->\n",
        "\n",
        "This dataset can also be easily imported from the [Scikit-Learn library](https://scikit-learn.org/stable/modules/generated/sklearn.datasets.load_wine.html)."
      ],
      "metadata": {
        "id": "Sjkt0xDLyuoP"
      }
    },
    {
      "cell_type": "code",
      "source": [
        "# Standard library imports.\n",
        "import random as rand\n",
        "from collections import Counter\n",
        "\n",
        "# Related third party imports.\n",
        "import numpy as np\n",
        "import pandas as pd\n",
        "import seaborn as sns\n",
        "from matplotlib import pyplot as plt\n",
        "from sklearn.datasets import load_wine\n",
        "from sklearn.model_selection import train_test_split\n",
        "from sklearn.preprocessing import MinMaxScaler\n",
        "from sklearn.neighbors import KNeighborsClassifier\n",
        "\n",
        "# Local application/library specific imports.\n",
        "# import here if you write .py script"
      ],
      "metadata": {
        "id": "VLkAGdjLzA9e"
      },
      "execution_count": null,
      "outputs": []
    },
    {
      "cell_type": "markdown",
      "source": [
        "Run the following cell to convert the dataset into a Pandas dataframe."
      ],
      "metadata": {
        "id": "JnUB9Nt3zNzd"
      }
    },
    {
      "cell_type": "code",
      "source": [
        "# Load the wine dataset\n",
        "wine = load_wine()\n",
        "X_wine = wine.data\n",
        "y_wine = wine.target\n",
        "\n",
        "# Create a pandas DataFrame\n",
        "data = pd.DataFrame(data=X_wine, columns=wine.feature_names)\n",
        "data['class'] = y_wine\n",
        "\n",
        "# For clarity, let's map the target numbers to the actual class names\n",
        "data['class'] = data['class'].map({i: name for i, name in enumerate(wine.target_names)})\n",
        "\n",
        "# Display the first few rows of the new dataset\n",
        "print(\"Wine Dataset successfully loaded.\")\n",
        "print(f\"Number of samples: {data.shape[0]}, Number of features: {len(wine.feature_names)}\")\n",
        "print(\"\\nFirst 5 rows of the dataset:\")\n",
        "print(data.head())"
      ],
      "metadata": {
        "id": "fY4pATiAzKj3"
      },
      "execution_count": null,
      "outputs": []
    },
    {
      "cell_type": "markdown",
      "source": [
        "Let's print the feature names."
      ],
      "metadata": {
        "id": "xjniUMAQYAhx"
      }
    },
    {
      "cell_type": "code",
      "source": [
        "print(list(wine.feature_names))"
      ],
      "metadata": {
        "id": "Af1ZSGf5JR6C"
      },
      "execution_count": null,
      "outputs": []
    },
    {
      "cell_type": "markdown",
      "source": [
        "This data has 178 samples in total.\n",
        "\n",
        "We will treat `'class'` as the label for each data sample and remaining 13 entries as the features `['alcohol', 'malic_acid', 'ash', 'alcalinity_of_ash', 'magnesium', 'total_phenols', 'flavanoids', 'nonflavanoid_phenols', 'proanthocyanins', 'color_intensity', 'hue', 'od280/od315_of_diluted_wines', 'proline']`.\n",
        "\n",
        "The `'class'` label has three possible values `['class_0', 'class_1', 'class_2']`.\n",
        "\n",
        "**Note** *that the arrangement of data samples is different from the notation we used in the class. In the class, data samples are given as column vectors. Here data samples are given as row vectors. `data` has 178 sample vectors, each of length 13 and stored as rows of `data`.*\n",
        "\n",
        "\n",
        "In this homework, we will focus on the 13 **numerical features**.\n",
        "We can visualize pair-wise relations among the numerical features\n",
        "`['alcohol', 'malic_acid', 'ash', 'alcalinity_of_ash', 'magnesium', 'total_phenols', 'flavanoids', 'nonflavanoid_phenols', 'proanthocyanins', 'color_intensity', 'hue', 'od280/od315_of_diluted_wines', 'proline']` in the data using scatterplot of all pairs of features and color the points by class label."
      ],
      "metadata": {
        "id": "NEzsZmJjzeHA"
      }
    },
    {
      "cell_type": "code",
      "source": [
        "fig = sns.pairplot(data, hue=\"class\")"
      ],
      "metadata": {
        "colab": {
          "base_uri": "https://localhost:8080/",
          "height": 1000
        },
        "id": "L_GMs4IAznTd",
        "outputId": "c880ff1b-3af7-4f67-d42e-d3c7b1c2e731"
      },
      "execution_count": null,
      "outputs": []
    },
    {
      "cell_type": "markdown",
      "source": [
        "## Question 3: Basic data analysis [20 pts]"
      ],
      "metadata": {
        "id": "fBy7iibdz2KW"
      }
    },
    {
      "cell_type": "markdown",
      "source": [
        "#### Question 3a: Counting and simple statistics [5]\n",
        "\n",
        "1. Calculate and print the min, max, and mean values of each of the four features in the entire dataset [1]\n",
        "\n",
        "1. Count and print the number of samples that belong to each of the three categories [1]\n",
        "\n",
        "1. Calculate and print the mean of each feature for each label as a $3\\times 13$ table [3]\n",
        "\n",
        "*Note: For **mean** values, keep 1 digit after the decimal point when printing*"
      ],
      "metadata": {
        "id": "VTCTB5A70EBr"
      }
    },
    {
      "cell_type": "code",
      "source": [
        "# TODO: complete the code blocks below\n",
        "\n",
        "# Get feature and category names from the dataset\n",
        "# features = wine.feature_names\n",
        "# categories = wine.target_names\n",
        "# print(\"Feature Name:\", features)\n",
        "# print(\"Category Name:\", categories)\n",
        "\n",
        "# print(\"1. Min, max, and mean values of all features:\\n\")\n",
        "# for feature in features:\n",
        "    # TODO: Calculate and print the min, max, and mean values of each of the 13 features in the entire dataset\n",
        "    # print(f\"(min, max, mean) of {feature}: ({min_val:.1f}, {max_val:.1f}, {mean_val:.1f})\")\n",
        "    # pass\n",
        "\n",
        "# print(\"\\n2. Number of samples per category:\\n\")\n",
        "# for category in categories:\n",
        "    # TODO: Count and print the number of samples that belong to each of the three categories\n",
        "    # print(f\"Number of samples in {category}: {}\")\n",
        "    # pass\n",
        "\n",
        "# print(\"\\n3. Table of mean value of each feature for each label:\\n\")\n",
        "# pd.set_option(\"display.precision\", 1)\n",
        "# TODO: Calculate the mean of each feature\n",
        "# panda_table = pd.DataFrame(data = table, index = categories, columns = features)\n",
        "# print(panda_table)"
      ],
      "metadata": {
        "id": "FYd4g49h0IEd"
      },
      "execution_count": null,
      "outputs": []
    },
    {
      "cell_type": "markdown",
      "source": [
        "#### Question 3b: Implement the $\\ell_p$ distance function [5]\n",
        "1. Write code that implements the $\\ell_p$ distance function between two data points as we saw it in class [3]\n",
        "\n",
        "\n",
        "$\\ell_p$ distance between two vectors $\\mathbf{x}_i, \\mathbf{x}_j$ in $\\mathbb{R}^d$ can be written as  \n",
        "$$\\|\\mathbf{x}_i - \\mathbf{x}_j\\|_p = \\left(\\sum_{k=1}^d |\\mathbf{x}_i(k) - \\mathbf{x}_j(k)|^p\\right)^{1/p}. $$\n",
        "You should implement this function yourself. Do not use any built-in function to compute distance or norm.\n",
        "\n",
        "2. Verify that it is correct by comparing it for p=1 and p=2 against an existing implementation in Numpy for the two selected data points below. Note that the difference of the distances may not be exactly 0 due to numerical precision issues. [2]"
      ],
      "metadata": {
        "id": "uff1wrNS0KKs"
      }
    },
    {
      "cell_type": "code",
      "source": [
        "# TODO: complete the function below\n",
        "# def distance(x,y,p=2):\n",
        "#     \"\"\"calculates Lp distance between point x and point y\n",
        "#     Args:\n",
        "#         x (np.ndarray): datapoint x\n",
        "#         y (np.ndarray): datapoint y\n",
        "#         p (int): order of Lp norm\n",
        "#     \"\"\"\n",
        "#     pass\n",
        "\n",
        "\n",
        "# # TODO: randomly pick 2 samples from the dataset (only keep the numerical features)\n",
        "# # calculate the distance and compare with numpy built-in function to verify your implementation\n",
        "\n",
        "# # dist = ...\n",
        "# print(f\"my l_{p} distance: {dist}\")\n",
        "\n",
        "# # TODO: verify using numpy built-in function\n",
        "# # dist_np = np.linalg.norm(...)\n",
        "# print(f\"numpy l_{p} distance: {dist_np}\")"
      ],
      "metadata": {
        "id": "Y9izWU550WrR"
      },
      "execution_count": null,
      "outputs": []
    },
    {
      "cell_type": "markdown",
      "source": [
        "#### Question 3c: Compute the distance matrix between all data points [10]\n",
        "1. Compute an $N\\times N$ distance matrix between all data points (where $N=178$ is the number of data points). Use the distance function you defined in the previous cell. [3]\n",
        "2. Plot the above matrix and include a colorbar. [3]\n"
      ],
      "metadata": {
        "id": "EmawEJhk0Yvy"
      }
    },
    {
      "cell_type": "code",
      "source": [
        "# TODO\n",
        "# Write you code here\n",
        "# dist_matrix = ...\n",
        "\n",
        "# # Plot the distance matrix\n",
        "# plt.imshow(dist_matrix, cmap='viridis')\n",
        "# plt.colorbar()\n",
        "# plt.title(\"Distance matrix between all data points\")\n",
        "# plt.xlabel(\"Data points index\")\n",
        "# plt.ylabel(\"Data points index\")\n",
        "# plt.show()"
      ],
      "metadata": {
        "id": "3QX3JHSS0d74"
      },
      "execution_count": null,
      "outputs": []
    },
    {
      "cell_type": "markdown",
      "source": [
        "3. What is the minimum number of distance computations that you can do in order to populate every value of this matrix? (note: it is OK if in the first two questions you do all the $N^2$ computations) [2]\n",
        "\n",
        "- <font color='green'> **Answer:** </font>\n",
        "\n",
        "4. Do you see any pattern in the distance matrix? Why? [2]\n",
        "\n",
        "- <font color='green'> **Answer:** </font>"
      ],
      "metadata": {
        "id": "a6Shdmsh0es1"
      }
    },
    {
      "cell_type": "markdown",
      "source": [
        "## Question 4: Probability [10 pts]"
      ],
      "metadata": {
        "id": "b8-4GZ1yW8Fl"
      }
    },
    {
      "cell_type": "markdown",
      "source": [
        "#### Question 4a: Prior probabilities [3 pts]\n",
        "\n",
        "The prior probability of a class is its proportion in the dataset. Calculate the prior probability for each of the three wine classes. The probability should be a value between 0 and 1.\n",
        "\n",
        "$$P(class)= \\frac{Number~of~samples~of~that~class}{Total~number~of~samples}$$\n",
        "\n"
      ],
      "metadata": {
        "id": "hgMgQCWqXLAV"
      }
    },
    {
      "cell_type": "code",
      "source": [
        "# TODO: Complete the code block below\n",
        "# Total number of samples\n",
        "# total_samples =\n",
        "\n",
        "# Calculate the number of samples for each class\n",
        "# class_0_count =\n",
        "# class_1_count =\n",
        "# class_2_count =\n",
        "\n",
        "# Calculate the prior probabilities\n",
        "# p_class_0 =\n",
        "# p_class_1 =\n",
        "# p_class_2 =\n",
        "\n",
        "# print(f\"P(class_0): {p_class_0:.4f}\")\n",
        "# print(f\"P(class_1): {p_class_1:.4f}\")\n",
        "# print(f\"P(class_2): {p_class_2:.4f}\")"
      ],
      "metadata": {
        "id": "oEKgR1YjUJXn"
      },
      "execution_count": null,
      "outputs": []
    },
    {
      "cell_type": "markdown",
      "source": [
        "#### Question 4b: Conditional probability [3 pts]\n",
        "\n",
        "Conditional probability is the probability of an event occurring given that another event has already occurred.\n",
        "\n",
        "The conditional probability of event $A$ given event $B$ is denoted as $P(A|B)$ and is calculated with the following formula:\n",
        "\n",
        "$$P(A|B) = \\frac{P(A \\cap B)}{P(B)}$$\n",
        "\n",
        "\n",
        "Where:\n",
        "- $P(A|B)$ is the probability of event $A$ occurring given that event $B$ has occurred.\n",
        "- $P(A\\cap B)$ is the joint probability of both event $A$ and event $B$ occurring together.\n",
        "- $P(B)$ is the probability of event $B$ occurring.\n",
        "\n",
        "\n",
        "Calculate the conditional probability that a wine has `high_alcohol` given that it is a `class_0` wine.\n",
        "<!--\n",
        "$$P(alcohol=``high (>13.5)\"|class=``class_0\")= \\frac{Number~of~class_0~wine~with~high~alcohol}{Total~number~of~class_0~wine} \\\\\n",
        "= \\frac{P(island=``Biscoe\" \\cap~species=``Gentoo\")}{P(species=``Gentoo\")}$$ -->\n",
        "\n"
      ],
      "metadata": {
        "id": "j_nK9uu-YC1e"
      }
    },
    {
      "cell_type": "code",
      "source": [
        "# TODO: Complete the code block below\n",
        "\n",
        "# Create the 'high_alcohol' feature\n",
        "# data['high_alcohol'] = data['alcohol'] > 13.5\n",
        "\n",
        "# # Filter data for class_0 wines\n",
        "# class_0_wines =\n",
        "\n",
        "# # Find how many of the class_0 wines have high alcohol\n",
        "# class_0_high_alcohol_count =\n",
        "\n",
        "# # Total number of class_0 wines\n",
        "# total_class_0_count =\n",
        "\n",
        "# # Calculate the conditional probability\n",
        "# p_high_alcohol_given_class_0 =\n",
        "\n",
        "# print(f\"P(high_alcohol | class='class_0'): {p_high_alcohol_given_class_0:.4f}\")"
      ],
      "metadata": {
        "id": "9N_CzNW9UQF3"
      },
      "execution_count": null,
      "outputs": []
    },
    {
      "cell_type": "markdown",
      "source": [
        "#### Question 4c: Independence [4 pts]\n",
        "\n",
        "Two events $A$ and $B$ are independent if $P(A∩B)=P(A)P(B)$.\n",
        "\n",
        "Using the data, determine if the events `class is class_1` and `high_alcohol is True` are independent.\n",
        "\n",
        "Explain your conclusion."
      ],
      "metadata": {
        "id": "leietU4_Y56x"
      }
    },
    {
      "cell_type": "code",
      "source": [
        "# TODO: Complete the code blocks below and add your explanation.\n",
        "\n",
        "\n",
        "# # 1. Calculate the joint probability P(class_1 and high_alcohol)\n",
        "# class_1_and_high_alcohol_count =\n",
        "# p_class_1_and_high_alcohol = c\n",
        "# print(f\"P(class_1 and high_alcohol): {p_class_1_and_high_alcohol:.4f}\")\n",
        "\n",
        "# # 2. Calculate the marginal probability P(high_alcohol)\n",
        "# high_alcohol_count =\n",
        "# p_high_alcohol =\n",
        "# print(f\"P(high_alcohol): {p_high_alcohol:.4f}\")\n",
        "\n",
        "# # 3. Check for independence using P(class_1) from Q4a\n",
        "# p_class_1 =\n",
        "# p_class_1_times_p_high_alcohol =\n",
        "# print(f\"P(class_1) * P(high_alcohol): {p_class_1_times_p_high_alcohol:.4f}\")"
      ],
      "metadata": {
        "id": "anGSGQ-8UUos"
      },
      "execution_count": null,
      "outputs": []
    },
    {
      "cell_type": "markdown",
      "source": [
        "**Explanation:**\n",
        "\n",
        "<font color='green'> Write your explanation here on whether the events are independent and why, based on your calculations.</font>"
      ],
      "metadata": {
        "id": "nl_bV7c5Z0PY"
      }
    },
    {
      "cell_type": "markdown",
      "source": [
        "## Question 5: K-Nearest Neighbors Classifier [45 pts]\n",
        "The K-Nearest Neighbors Classifier is one of the most popular instance-based (and in general) classification models. In this question, we will implement our own version and test in different scenarios.\n",
        "\n",
        "#### Question 5a: Implement the K-NN Classifier [10]\n",
        "For the implementation, your function should have the format:\n",
        "```python\n",
        "def knnclassify(test_data,training_data, training_labels, K=1):\n",
        "```\n",
        "where `test_data` contains test data points, `training_data` contains training data points, `training_labels` holds the training labels, and `K` is the number of neighbors.\n",
        "\n",
        "The output of this function should be `pred_labels` which contains the predicted label for each test data point (it should, therefore, have the same number of rows as `test_data`).\n"
      ],
      "metadata": {
        "id": "qrIDMeBn0y49"
      }
    },
    {
      "cell_type": "code",
      "source": [
        "# Prepare datasets, convert to numpy array, X data values, Y labels\n",
        "X = data.loc[:, features].values\n",
        "all_labels = data['class'].values\n",
        "\n",
        "# Convert string labels to integer labels (0, 1, 2)\n",
        "# This was already done when loading the data (y_wine), so we can reuse it.\n",
        "Y = y_wine"
      ],
      "metadata": {
        "id": "VsLGKLyf04l9"
      },
      "execution_count": null,
      "outputs": []
    },
    {
      "cell_type": "code",
      "source": [
        "# TODO: complete the function below\n",
        "\n",
        "# def knnclassify(test_data, training_data, training_labels, K=1):\n",
        "#   \"\"\"KNN classifier\n",
        "#     Args:\n",
        "#       test_data (numpy.ndarray): Test data points.\n",
        "#       training_data (numpy.ndarray): Training data points.\n",
        "#       training_labels (numpy.ndarray): Training labels.\n",
        "#       K (int): The number of neighbors.\n",
        "\n",
        "#     Returns:\n",
        "#       pred_labels: contains the predicted label for each test data point, have the same number of rows as 'test_data'\n",
        "#   \"\"\"\n",
        "#   pass"
      ],
      "metadata": {
        "id": "jblf4S5I07-J"
      },
      "execution_count": null,
      "outputs": []
    },
    {
      "cell_type": "markdown",
      "source": [
        "#### Question 5b: Measuring performance [15]\n",
        "\n",
        "In this question you will have to evaluate the average performance of your classifier for different values of $K$. In particular, $K$ will range in $\\{1,\\cdots,10\\}$. We are going to measure the performance using classification accuracy. For computing the accuracy, you may use\n",
        "```python\n",
        "accuracy = sum(test_labels == pred_labels)/len(test_labels)\n",
        "```\n",
        "where `test_labels` are the actual class labels and `pred_labels` are the predicted labels\n",
        "\n",
        "\n",
        "In order to get a proper estimate for the accuracy for every K, we need to run multiple iterations where for each iteration we get a different randomized split of our data into train and test. In this question, we are going to run 100 iterations for every K, and for every random splitting, you may use:\n",
        "\n",
        "```python\n",
        "(training_data, test_data, training_labels, test_labels) = train_test_split(X, Y, test_size=0.3)\n",
        "```\n",
        "where the train/test ratio is 70/30.\n",
        "\n",
        "After computing the accuracy for every $K$ for every iteration, you will have 100 accuracies per $K$. The best way to store those accuracies is in a matrix that has as many rows as values for $K$ and 100 columns, each one for each iteration.\n",
        "\n",
        "Compute average accuracy as a function of $K$. Because we have a randomized process, we also need to compute how certain/uncertain our estimation for the accuracy per $K$ is. For that reason, we also need to compute the standard deviation of the accuracy for every $K$. Having computed both average accuracy and standard deviation, make a figure that shows the average accuracy as a function of $K$ with each point of the figure being surrounded by an error-bar encoding the standard deviation. You may find\n",
        "```python\n",
        "plt.errorbar()\n",
        "```\n",
        "useful for this plot."
      ],
      "metadata": {
        "id": "VCR_e8Bk0-9Z"
      }
    },
    {
      "cell_type": "code",
      "source": [
        "# TODO: write your code here\n",
        "# You should be able to get above 80% accuracies\n",
        "\n",
        "# num_iterations = 100\n",
        "# k_values = range(1, 11)\n",
        "# accuracies = np.zeros((len(k_values), num_iterations))\n",
        "\n",
        "# for i, K in enumerate(k_values):\n",
        "#     for j in range(num_iterations):\n",
        "#         ## TODO: Write your code\n",
        "#         pass\n",
        "\n",
        "# Calculate average accuracy and standard deviation for each K\n",
        "# avg_accuracies =\n",
        "# std_accuracies =\n",
        "\n",
        "# Plot the results\n",
        "# plt.figure(figsize=(10, 6))\n",
        "# plt.errorbar(...)\n",
        "# plt.title('KNN Performance on Wine Dataset vs. K')\n",
        "# plt.xlabel('Number of Neighbors (K)')\n",
        "# plt.ylabel('Average Classification Accuracy')\n",
        "# plt.xticks(k_values)\n",
        "# plt.grid(True)\n",
        "# plt.show()\n",
        "\n",
        "# # Print best K\n",
        "# best_k_index =\n",
        "# print(f\"Best performance is for K = {k_values[best_k_index]} with an accuracy of {avg_accuracies[best_k_index]:.3f}\")"
      ],
      "metadata": {
        "id": "n4-qT7kI1DR-"
      },
      "execution_count": null,
      "outputs": []
    },
    {
      "cell_type": "markdown",
      "source": [
        "### Question 5c: Effect of data normalization [10]\n",
        "\n",
        "You will notice that if you compute distances using the raw data, the KNN accuracy will be in 68-76% range.\n",
        "\n",
        "You can improve the accuracy of the KNN algorithm to above 95% by performing data normalization as the pre-processing step where you can first convert every feature value to the range [0,1] and then perform KNN algorithm.\n",
        "\n",
        "You can read more about such normalization procedures [here](https://en.wikipedia.org/wiki/Feature_scaling).\n",
        "\n",
        "1. First normalize the feature values to [0, 1]. Then run KNN similar to question 5b for K = {1, ..., 10} and 100 iterations for every K. Plot the performance with errorbar. [8]\n"
      ],
      "metadata": {
        "id": "6e7rhvvT1Fm5"
      }
    },
    {
      "cell_type": "code",
      "source": [
        "# TODO: Write your code here\n",
        "# 1. Normalize the feature values to [0, 1]\n",
        "\n",
        "# Repeat the experiment with normalized data\n",
        "# accuracies_norm = np.zeros((len(k_values), num_iterations))\n",
        "\n",
        "# for i, K in enumerate(k_values):\n",
        "#     for j in range(num_iterations):\n",
        "#         # TODO: Your implementation\n",
        "#         pass\n",
        "\n",
        "# avg_accuracies_norm =\n",
        "# std_accuracies_norm =\n",
        "\n",
        "# # Plot the results\n",
        "# plt.figure(figsize=(10, 6))\n",
        "# plt.errorbar(...)\n",
        "# plt.title('KNN Performance on Normalized Wine Dataset vs. K')\n",
        "# plt.xlabel('Number of Neighbors (K)')\n",
        "# plt.ylabel('Average Classification Accuracy')\n",
        "# plt.xticks(k_values)\n",
        "# plt.ylim(0.8, 1.0) # Adjust y-axis to see the high accuracy better\n",
        "# plt.grid(True)\n",
        "# plt.show()\n",
        "\n",
        "# Print best K\n",
        "# best_k_index_norm =\n",
        "# print(f\"Best performance with normalized data is for K = {k_values[best_k_index_norm]} with an accuracy of {avg_accuracies_norm[best_k_index_norm]:.3f}\")"
      ],
      "metadata": {
        "id": "Oa0F2pXX1LP7"
      },
      "execution_count": null,
      "outputs": []
    },
    {
      "cell_type": "markdown",
      "source": [
        "2. Why does the performance increase when we do feature normalization? [2]\n",
        "- <font color='green'> **Answer:** </font>"
      ],
      "metadata": {
        "id": "7losnkd71Lgn"
      }
    },
    {
      "cell_type": "markdown",
      "source": [
        "### Question 5d: Feature Selection [10]\n",
        "\n",
        "For the following questions, you should perform KNN classification using only 2 features from `['alcohol', 'malic_acid', 'ash', 'alcalinity_of_ash', 'magnesium', 'total_phenols', 'flavanoids', 'nonflavanoid_phenols', 'proanthocyanins', 'color_intensity', 'hue', 'od280/od315_of_diluted_wines', 'proline']` per sample.\n",
        "\n",
        "*You may want to refer to pairplot above to decide which features are best*\n",
        "\n",
        "**Answer the following questions**\n",
        "\n",
        "1. Which two features did you choose to get the **best** performance for KNN algorithm?\n",
        "1. Which two features did you choose to get the **worst** performance for KNN algorithm?\n",
        "2. Why? (Justify your answer)\n"
      ],
      "metadata": {
        "id": "8zNulSjt1UG7"
      }
    },
    {
      "cell_type": "markdown",
      "source": [
        "**Write your answer here:**\n",
        "\n",
        "1.\n",
        "\n",
        "2.\n",
        "\n",
        "3."
      ],
      "metadata": {
        "id": "iqEPiErp1aHs"
      }
    },
    {
      "cell_type": "markdown",
      "source": [
        "---\n",
        "\n",
        "## <font color='red'> **Submission instructions** </font>\n",
        "1. Follow these steps to download this Colab notebook and convert it to PDF. You can follow similar steps as [here](https://stackoverflow.com/questions/53460051/convert-ipynb-notebook-to-html-in-google-colab) but convert to PDF (not HTML).\n",
        " - Download your notebook as `.ipynb` file. You can do it using only Google Colab. `File` -> `Download` -> `Download .ipynb`.\n",
        " - Reupload it so Colab can see it. Click on the `Files` icon on the far left to expand the side bar. You can directly drag the downloaded `.ipynb` file to the area. Or click `Upload to session storage` icon and then select & upload your `.ipynb` file.\n",
        " - Use the following commands to convert it to PDF.\n",
        " ```\n",
        "!sudo apt-get update\n",
        "!sudo apt-get install texlive-xetex texlive-fonts-recommended texlive-plain-generic pandoc\n",
        "!pip install pypandoc\n",
        "!jupyter nbconvert --log-level CRITICAL --to pdf /path/to/Fall2025_HW1.ipynb\n",
        "  ```\n",
        " - Your PDF file is ready. Click 3 dots and `Download`.\n",
        "\n",
        "<font color='red'> **Note: Please follow these instructions to generate the PDF. DO NOT use any other method, such as `ctrl+p`.** </font>\n",
        "\n",
        "2. Upload the PDF to Gradescope and **select** the correct pages for each question. Refer to the shared video or contact the TAs if you face any issues. **Important!**\n",
        "\n",
        "\n",
        "3. Upload the `.ipynb` file to Gradescope. Make sure that both the **code** and the **PDF** are uploaded. **Important!**\n",
        "\n",
        "\n",
        "Notice: In case of errors in conversion, please check your LaTeX and debug. In Markdown, when you write in LaTeX math mode, do not leave any leading and trailing whitespaces inside the dollar signs ($). For example, write `(dollarSign)\\mathbf(dollarSign)(dollarSign)` instead of `(dollarSign)(space)\\mathbf{w}(dollarSign)`. Otherwise, nbconvert will throw an error and the generated pdf will be incomplete."
      ],
      "metadata": {
        "id": "EvKaIDEkX0jZ"
      }
    },
    {
      "cell_type": "code",
      "source": [
        "!sudo apt-get update\n",
        "!sudo apt-get install texlive-xetex texlive-fonts-recommended texlive-plain-generic pandoc\n",
        "!pip install pypandoc"
      ],
      "metadata": {
        "id": "jdyFU83rX0jZ"
      },
      "execution_count": null,
      "outputs": []
    },
    {
      "cell_type": "code",
      "source": [
        "!jupyter nbconvert --log-level INFO --to pdf /path/to/notebook_file.ipynb # make sure the ipynb name is correct"
      ],
      "metadata": {
        "id": "M2XuF-qZ_-fk"
      },
      "execution_count": null,
      "outputs": []
    }
  ]
}